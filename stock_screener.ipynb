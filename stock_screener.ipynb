{
 "cells": [
  {
   "cell_type": "code",
   "execution_count": 143,
   "id": "07eeccb7-fb20-454d-92c3-d0b8f1d8ac6a",
   "metadata": {},
   "outputs": [],
   "source": [
    "import pandas as pd\n",
    "from finvizfinance.screener.overview import Overview\n",
    "import yfinance as yf\n",
    "from pandas.tseries.offsets import DateOffset\n",
    "from sklearn.preprocessing import StandardScaler\n",
    "from sklearn import svm\n",
    "from sklearn.metrics import classification_report"
   ]
  },
  {
   "cell_type": "code",
   "execution_count": 86,
   "id": "5759acb4-ccf5-48e3-be5a-b01ffe40f5e9",
   "metadata": {},
   "outputs": [],
   "source": [
    "criteria = Overview()"
   ]
  },
  {
   "cell_type": "code",
   "execution_count": 87,
   "id": "36f7799d-fe33-4428-8310-9a54452c6ded",
   "metadata": {},
   "outputs": [],
   "source": [
    "# Criteria Set from CANSLIM method\n",
    "filters_dic = {'Price':'Over $5', 'EPS growthqtr over qtr':'Over 20%', 'EPS growthpast 5 years':'Over 15%', 'InstitutionalOwnership':'Under 90%', \n",
    "               'Return on Equity':'Over +15%', '52-Week High/Low':'0-10% below High', 'Shares Outstanding': 'Under 50M', 'Price': 'Over $5', 'Average Volume': 'Over 100K'}"
   ]
  },
  {
   "cell_type": "code",
   "execution_count": 88,
   "id": "49e50801-ea2b-42ff-aa4e-0091ec0021ec",
   "metadata": {},
   "outputs": [],
   "source": [
    "criteria.set_filter(filters_dict=filters_dic)"
   ]
  },
  {
   "cell_type": "code",
   "execution_count": 89,
   "id": "6f62343e-661b-4dc4-b310-aae2960d6007",
   "metadata": {},
   "outputs": [
    {
     "name": "stdout",
     "output_type": "stream",
     "text": [
      "[Info] loading page [##############################] 1/1 \r"
     ]
    }
   ],
   "source": [
    "screened_stocks_df = criteria.screener_view()"
   ]
  },
  {
   "cell_type": "code",
   "execution_count": 90,
   "id": "e039e845-a70b-4a58-9e4c-287733076bbc",
   "metadata": {},
   "outputs": [
    {
     "data": {
      "text/html": [
       "<div>\n",
       "<style scoped>\n",
       "    .dataframe tbody tr th:only-of-type {\n",
       "        vertical-align: middle;\n",
       "    }\n",
       "\n",
       "    .dataframe tbody tr th {\n",
       "        vertical-align: top;\n",
       "    }\n",
       "\n",
       "    .dataframe thead th {\n",
       "        text-align: right;\n",
       "    }\n",
       "</style>\n",
       "<table border=\"1\" class=\"dataframe\">\n",
       "  <thead>\n",
       "    <tr style=\"text-align: right;\">\n",
       "      <th></th>\n",
       "      <th>Ticker</th>\n",
       "      <th>Company</th>\n",
       "      <th>Sector</th>\n",
       "      <th>Industry</th>\n",
       "      <th>Country</th>\n",
       "      <th>Market Cap</th>\n",
       "      <th>P/E</th>\n",
       "      <th>Price</th>\n",
       "      <th>Change</th>\n",
       "      <th>Volume</th>\n",
       "    </tr>\n",
       "  </thead>\n",
       "  <tbody>\n",
       "    <tr>\n",
       "      <th>0</th>\n",
       "      <td>CLFD</td>\n",
       "      <td>Clearfield, Inc.</td>\n",
       "      <td>Technology</td>\n",
       "      <td>Communication Equipment</td>\n",
       "      <td>USA</td>\n",
       "      <td>1.160000e+09</td>\n",
       "      <td>41.23</td>\n",
       "      <td>97.00</td>\n",
       "      <td>-0.0157</td>\n",
       "      <td>315706.0</td>\n",
       "    </tr>\n",
       "    <tr>\n",
       "      <th>1</th>\n",
       "      <td>CVLG</td>\n",
       "      <td>Covenant Logistics Group, Inc.</td>\n",
       "      <td>Industrials</td>\n",
       "      <td>Trucking</td>\n",
       "      <td>USA</td>\n",
       "      <td>5.284900e+08</td>\n",
       "      <td>6.86</td>\n",
       "      <td>33.80</td>\n",
       "      <td>0.0099</td>\n",
       "      <td>99162.0</td>\n",
       "    </tr>\n",
       "    <tr>\n",
       "      <th>2</th>\n",
       "      <td>GLP</td>\n",
       "      <td>Global Partners LP</td>\n",
       "      <td>Energy</td>\n",
       "      <td>Oil &amp; Gas Midstream</td>\n",
       "      <td>USA</td>\n",
       "      <td>9.253500e+08</td>\n",
       "      <td>12.22</td>\n",
       "      <td>28.17</td>\n",
       "      <td>0.0139</td>\n",
       "      <td>53395.0</td>\n",
       "    </tr>\n",
       "    <tr>\n",
       "      <th>3</th>\n",
       "      <td>MGPI</td>\n",
       "      <td>MGP Ingredients, Inc.</td>\n",
       "      <td>Consumer Defensive</td>\n",
       "      <td>Packaged Foods</td>\n",
       "      <td>USA</td>\n",
       "      <td>2.300000e+09</td>\n",
       "      <td>20.83</td>\n",
       "      <td>105.86</td>\n",
       "      <td>0.0065</td>\n",
       "      <td>36912.0</td>\n",
       "    </tr>\n",
       "    <tr>\n",
       "      <th>4</th>\n",
       "      <td>MUSA</td>\n",
       "      <td>Murphy USA Inc.</td>\n",
       "      <td>Consumer Cyclical</td>\n",
       "      <td>Specialty Retail</td>\n",
       "      <td>USA</td>\n",
       "      <td>6.230000e+09</td>\n",
       "      <td>13.04</td>\n",
       "      <td>283.65</td>\n",
       "      <td>-0.0025</td>\n",
       "      <td>226033.0</td>\n",
       "    </tr>\n",
       "    <tr>\n",
       "      <th>5</th>\n",
       "      <td>OTTR</td>\n",
       "      <td>Otter Tail Corporation</td>\n",
       "      <td>Utilities</td>\n",
       "      <td>Utilities - Diversified</td>\n",
       "      <td>USA</td>\n",
       "      <td>2.820000e+09</td>\n",
       "      <td>13.47</td>\n",
       "      <td>71.27</td>\n",
       "      <td>0.0142</td>\n",
       "      <td>58856.0</td>\n",
       "    </tr>\n",
       "    <tr>\n",
       "      <th>6</th>\n",
       "      <td>SRTS</td>\n",
       "      <td>Sensus Healthcare, Inc.</td>\n",
       "      <td>Healthcare</td>\n",
       "      <td>Medical Devices</td>\n",
       "      <td>USA</td>\n",
       "      <td>1.779100e+08</td>\n",
       "      <td>8.76</td>\n",
       "      <td>11.00</td>\n",
       "      <td>-0.0231</td>\n",
       "      <td>121981.0</td>\n",
       "    </tr>\n",
       "    <tr>\n",
       "      <th>7</th>\n",
       "      <td>USAK</td>\n",
       "      <td>USA Truck, Inc.</td>\n",
       "      <td>Industrials</td>\n",
       "      <td>Trucking</td>\n",
       "      <td>USA</td>\n",
       "      <td>2.806200e+08</td>\n",
       "      <td>8.19</td>\n",
       "      <td>31.17</td>\n",
       "      <td>-0.0003</td>\n",
       "      <td>67920.0</td>\n",
       "    </tr>\n",
       "  </tbody>\n",
       "</table>\n",
       "</div>"
      ],
      "text/plain": [
       "  Ticker                         Company              Sector  \\\n",
       "0   CLFD                Clearfield, Inc.          Technology   \n",
       "1   CVLG  Covenant Logistics Group, Inc.         Industrials   \n",
       "2    GLP              Global Partners LP              Energy   \n",
       "3   MGPI           MGP Ingredients, Inc.  Consumer Defensive   \n",
       "4   MUSA                 Murphy USA Inc.   Consumer Cyclical   \n",
       "5   OTTR          Otter Tail Corporation           Utilities   \n",
       "6   SRTS         Sensus Healthcare, Inc.          Healthcare   \n",
       "7   USAK                 USA Truck, Inc.         Industrials   \n",
       "\n",
       "                  Industry Country    Market Cap    P/E   Price  Change  \\\n",
       "0  Communication Equipment     USA  1.160000e+09  41.23   97.00 -0.0157   \n",
       "1                 Trucking     USA  5.284900e+08   6.86   33.80  0.0099   \n",
       "2      Oil & Gas Midstream     USA  9.253500e+08  12.22   28.17  0.0139   \n",
       "3           Packaged Foods     USA  2.300000e+09  20.83  105.86  0.0065   \n",
       "4         Specialty Retail     USA  6.230000e+09  13.04  283.65 -0.0025   \n",
       "5  Utilities - Diversified     USA  2.820000e+09  13.47   71.27  0.0142   \n",
       "6          Medical Devices     USA  1.779100e+08   8.76   11.00 -0.0231   \n",
       "7                 Trucking     USA  2.806200e+08   8.19   31.17 -0.0003   \n",
       "\n",
       "     Volume  \n",
       "0  315706.0  \n",
       "1   99162.0  \n",
       "2   53395.0  \n",
       "3   36912.0  \n",
       "4  226033.0  \n",
       "5   58856.0  \n",
       "6  121981.0  \n",
       "7   67920.0  "
      ]
     },
     "execution_count": 90,
     "metadata": {},
     "output_type": "execute_result"
    }
   ],
   "source": [
    "screened_stocks_df"
   ]
  },
  {
   "cell_type": "code",
   "execution_count": 91,
   "id": "4207cd68-0e0a-44ca-b815-e6c2fb7714d2",
   "metadata": {},
   "outputs": [
    {
     "data": {
      "text/plain": [
       "['CLFD', 'CVLG', 'GLP', 'MGPI', 'MUSA', 'OTTR', 'SRTS', 'USAK']"
      ]
     },
     "execution_count": 91,
     "metadata": {},
     "output_type": "execute_result"
    }
   ],
   "source": [
    "tickers = list(screened_stocks_df.Ticker)\n",
    "tickers"
   ]
  },
  {
   "cell_type": "code",
   "execution_count": 124,
   "id": "0b4ba752-94b5-4eb4-aa05-49b639a6534c",
   "metadata": {},
   "outputs": [
    {
     "name": "stdout",
     "output_type": "stream",
     "text": [
      "[*********************100%***********************]  8 of 8 completed\n"
     ]
    }
   ],
   "source": [
    "yf_data = yf.download(tickers, '2021-01-01','2022-07-30')"
   ]
  },
  {
   "cell_type": "code",
   "execution_count": 125,
   "id": "75445744-a674-487b-8e33-f89947f6661c",
   "metadata": {},
   "outputs": [
    {
     "data": {
      "text/html": [
       "<div>\n",
       "<style scoped>\n",
       "    .dataframe tbody tr th:only-of-type {\n",
       "        vertical-align: middle;\n",
       "    }\n",
       "\n",
       "    .dataframe tbody tr th {\n",
       "        vertical-align: top;\n",
       "    }\n",
       "\n",
       "    .dataframe thead th {\n",
       "        text-align: right;\n",
       "    }\n",
       "</style>\n",
       "<table border=\"1\" class=\"dataframe\">\n",
       "  <thead>\n",
       "    <tr style=\"text-align: right;\">\n",
       "      <th></th>\n",
       "      <th>CLFD</th>\n",
       "      <th>CVLG</th>\n",
       "      <th>GLP</th>\n",
       "      <th>MGPI</th>\n",
       "      <th>MUSA</th>\n",
       "      <th>OTTR</th>\n",
       "      <th>SRTS</th>\n",
       "      <th>USAK</th>\n",
       "    </tr>\n",
       "    <tr>\n",
       "      <th>Date</th>\n",
       "      <th></th>\n",
       "      <th></th>\n",
       "      <th></th>\n",
       "      <th></th>\n",
       "      <th></th>\n",
       "      <th></th>\n",
       "      <th></th>\n",
       "      <th></th>\n",
       "    </tr>\n",
       "  </thead>\n",
       "  <tbody>\n",
       "    <tr>\n",
       "      <th>2021-01-04</th>\n",
       "      <td>24.190001</td>\n",
       "      <td>14.360000</td>\n",
       "      <td>16.900000</td>\n",
       "      <td>46.689999</td>\n",
       "      <td>128.199997</td>\n",
       "      <td>41.720001</td>\n",
       "      <td>3.86</td>\n",
       "      <td>8.690000</td>\n",
       "    </tr>\n",
       "    <tr>\n",
       "      <th>2021-01-05</th>\n",
       "      <td>24.320000</td>\n",
       "      <td>14.910000</td>\n",
       "      <td>17.160000</td>\n",
       "      <td>48.560001</td>\n",
       "      <td>127.139999</td>\n",
       "      <td>41.490002</td>\n",
       "      <td>4.36</td>\n",
       "      <td>8.870000</td>\n",
       "    </tr>\n",
       "    <tr>\n",
       "      <th>2021-01-06</th>\n",
       "      <td>25.480000</td>\n",
       "      <td>15.600000</td>\n",
       "      <td>17.280001</td>\n",
       "      <td>49.389999</td>\n",
       "      <td>130.679993</td>\n",
       "      <td>43.580002</td>\n",
       "      <td>4.31</td>\n",
       "      <td>9.040000</td>\n",
       "    </tr>\n",
       "    <tr>\n",
       "      <th>2021-01-07</th>\n",
       "      <td>25.830000</td>\n",
       "      <td>15.730000</td>\n",
       "      <td>17.100000</td>\n",
       "      <td>49.000000</td>\n",
       "      <td>129.500000</td>\n",
       "      <td>42.919998</td>\n",
       "      <td>4.40</td>\n",
       "      <td>9.400000</td>\n",
       "    </tr>\n",
       "    <tr>\n",
       "      <th>2021-01-08</th>\n",
       "      <td>25.879999</td>\n",
       "      <td>15.770000</td>\n",
       "      <td>16.980000</td>\n",
       "      <td>49.070000</td>\n",
       "      <td>127.379997</td>\n",
       "      <td>42.669998</td>\n",
       "      <td>4.18</td>\n",
       "      <td>9.680000</td>\n",
       "    </tr>\n",
       "    <tr>\n",
       "      <th>...</th>\n",
       "      <td>...</td>\n",
       "      <td>...</td>\n",
       "      <td>...</td>\n",
       "      <td>...</td>\n",
       "      <td>...</td>\n",
       "      <td>...</td>\n",
       "      <td>...</td>\n",
       "      <td>...</td>\n",
       "    </tr>\n",
       "    <tr>\n",
       "      <th>2022-07-25</th>\n",
       "      <td>77.860001</td>\n",
       "      <td>29.230000</td>\n",
       "      <td>26.000000</td>\n",
       "      <td>101.440002</td>\n",
       "      <td>270.880005</td>\n",
       "      <td>66.400002</td>\n",
       "      <td>10.69</td>\n",
       "      <td>31.150000</td>\n",
       "    </tr>\n",
       "    <tr>\n",
       "      <th>2022-07-26</th>\n",
       "      <td>79.550003</td>\n",
       "      <td>34.509998</td>\n",
       "      <td>26.830000</td>\n",
       "      <td>103.459999</td>\n",
       "      <td>264.809998</td>\n",
       "      <td>67.599998</td>\n",
       "      <td>9.73</td>\n",
       "      <td>31.180000</td>\n",
       "    </tr>\n",
       "    <tr>\n",
       "      <th>2022-07-27</th>\n",
       "      <td>84.190002</td>\n",
       "      <td>33.889999</td>\n",
       "      <td>27.219999</td>\n",
       "      <td>104.629997</td>\n",
       "      <td>266.950012</td>\n",
       "      <td>67.690002</td>\n",
       "      <td>10.67</td>\n",
       "      <td>31.160000</td>\n",
       "    </tr>\n",
       "    <tr>\n",
       "      <th>2022-07-28</th>\n",
       "      <td>84.570000</td>\n",
       "      <td>32.900002</td>\n",
       "      <td>27.490000</td>\n",
       "      <td>105.339996</td>\n",
       "      <td>287.700012</td>\n",
       "      <td>69.620003</td>\n",
       "      <td>11.06</td>\n",
       "      <td>31.200001</td>\n",
       "    </tr>\n",
       "    <tr>\n",
       "      <th>2022-07-29</th>\n",
       "      <td>98.550003</td>\n",
       "      <td>33.470001</td>\n",
       "      <td>27.780001</td>\n",
       "      <td>105.180000</td>\n",
       "      <td>284.359985</td>\n",
       "      <td>70.269997</td>\n",
       "      <td>11.26</td>\n",
       "      <td>31.180000</td>\n",
       "    </tr>\n",
       "  </tbody>\n",
       "</table>\n",
       "<p>396 rows × 8 columns</p>\n",
       "</div>"
      ],
      "text/plain": [
       "                 CLFD       CVLG        GLP        MGPI        MUSA  \\\n",
       "Date                                                                  \n",
       "2021-01-04  24.190001  14.360000  16.900000   46.689999  128.199997   \n",
       "2021-01-05  24.320000  14.910000  17.160000   48.560001  127.139999   \n",
       "2021-01-06  25.480000  15.600000  17.280001   49.389999  130.679993   \n",
       "2021-01-07  25.830000  15.730000  17.100000   49.000000  129.500000   \n",
       "2021-01-08  25.879999  15.770000  16.980000   49.070000  127.379997   \n",
       "...               ...        ...        ...         ...         ...   \n",
       "2022-07-25  77.860001  29.230000  26.000000  101.440002  270.880005   \n",
       "2022-07-26  79.550003  34.509998  26.830000  103.459999  264.809998   \n",
       "2022-07-27  84.190002  33.889999  27.219999  104.629997  266.950012   \n",
       "2022-07-28  84.570000  32.900002  27.490000  105.339996  287.700012   \n",
       "2022-07-29  98.550003  33.470001  27.780001  105.180000  284.359985   \n",
       "\n",
       "                 OTTR   SRTS       USAK  \n",
       "Date                                     \n",
       "2021-01-04  41.720001   3.86   8.690000  \n",
       "2021-01-05  41.490002   4.36   8.870000  \n",
       "2021-01-06  43.580002   4.31   9.040000  \n",
       "2021-01-07  42.919998   4.40   9.400000  \n",
       "2021-01-08  42.669998   4.18   9.680000  \n",
       "...               ...    ...        ...  \n",
       "2022-07-25  66.400002  10.69  31.150000  \n",
       "2022-07-26  67.599998   9.73  31.180000  \n",
       "2022-07-27  67.690002  10.67  31.160000  \n",
       "2022-07-28  69.620003  11.06  31.200001  \n",
       "2022-07-29  70.269997  11.26  31.180000  \n",
       "\n",
       "[396 rows x 8 columns]"
      ]
     },
     "execution_count": 125,
     "metadata": {},
     "output_type": "execute_result"
    }
   ],
   "source": [
    "df_close = yf_data[\"Close\"]\n",
    "df_close"
   ]
  },
  {
   "cell_type": "code",
   "execution_count": 126,
   "id": "0487c780-8096-4265-9a15-0d4330817193",
   "metadata": {},
   "outputs": [
    {
     "data": {
      "text/html": [
       "<div>\n",
       "<style scoped>\n",
       "    .dataframe tbody tr th:only-of-type {\n",
       "        vertical-align: middle;\n",
       "    }\n",
       "\n",
       "    .dataframe tbody tr th {\n",
       "        vertical-align: top;\n",
       "    }\n",
       "\n",
       "    .dataframe thead th {\n",
       "        text-align: right;\n",
       "    }\n",
       "</style>\n",
       "<table border=\"1\" class=\"dataframe\">\n",
       "  <thead>\n",
       "    <tr style=\"text-align: right;\">\n",
       "      <th></th>\n",
       "      <th>CVLG</th>\n",
       "      <th>Actual Returns</th>\n",
       "    </tr>\n",
       "    <tr>\n",
       "      <th>Date</th>\n",
       "      <th></th>\n",
       "      <th></th>\n",
       "    </tr>\n",
       "  </thead>\n",
       "  <tbody>\n",
       "    <tr>\n",
       "      <th>2021-01-05</th>\n",
       "      <td>14.91</td>\n",
       "      <td>0.038301</td>\n",
       "    </tr>\n",
       "    <tr>\n",
       "      <th>2021-01-06</th>\n",
       "      <td>15.60</td>\n",
       "      <td>0.046278</td>\n",
       "    </tr>\n",
       "    <tr>\n",
       "      <th>2021-01-07</th>\n",
       "      <td>15.73</td>\n",
       "      <td>0.008333</td>\n",
       "    </tr>\n",
       "    <tr>\n",
       "      <th>2021-01-08</th>\n",
       "      <td>15.77</td>\n",
       "      <td>0.002543</td>\n",
       "    </tr>\n",
       "    <tr>\n",
       "      <th>2021-01-11</th>\n",
       "      <td>15.65</td>\n",
       "      <td>-0.007609</td>\n",
       "    </tr>\n",
       "  </tbody>\n",
       "</table>\n",
       "</div>"
      ],
      "text/plain": [
       "             CVLG  Actual Returns\n",
       "Date                             \n",
       "2021-01-05  14.91        0.038301\n",
       "2021-01-06  15.60        0.046278\n",
       "2021-01-07  15.73        0.008333\n",
       "2021-01-08  15.77        0.002543\n",
       "2021-01-11  15.65       -0.007609"
      ]
     },
     "execution_count": 126,
     "metadata": {},
     "output_type": "execute_result"
    }
   ],
   "source": [
    "df_close_cvlg = pd.DataFrame(df_close[\"CVLG\"])\n",
    "df_close_cvlg[\"Actual Returns\"] = df_close_cvlg[\"CVLG\"].pct_change()\n",
    "df_close_cvlg.dropna().head()"
   ]
  },
  {
   "cell_type": "code",
   "execution_count": 127,
   "id": "773cf103-6799-4ead-b596-13b8b4f43f0e",
   "metadata": {},
   "outputs": [
    {
     "data": {
      "text/html": [
       "<div>\n",
       "<style scoped>\n",
       "    .dataframe tbody tr th:only-of-type {\n",
       "        vertical-align: middle;\n",
       "    }\n",
       "\n",
       "    .dataframe tbody tr th {\n",
       "        vertical-align: top;\n",
       "    }\n",
       "\n",
       "    .dataframe thead th {\n",
       "        text-align: right;\n",
       "    }\n",
       "</style>\n",
       "<table border=\"1\" class=\"dataframe\">\n",
       "  <thead>\n",
       "    <tr style=\"text-align: right;\">\n",
       "      <th></th>\n",
       "      <th>CVLG</th>\n",
       "      <th>Actual Returns</th>\n",
       "      <th>sma_fast</th>\n",
       "      <th>sma_slow</th>\n",
       "    </tr>\n",
       "    <tr>\n",
       "      <th>Date</th>\n",
       "      <th></th>\n",
       "      <th></th>\n",
       "      <th></th>\n",
       "      <th></th>\n",
       "    </tr>\n",
       "  </thead>\n",
       "  <tbody>\n",
       "    <tr>\n",
       "      <th>2021-05-26</th>\n",
       "      <td>22.170000</td>\n",
       "      <td>0.007727</td>\n",
       "      <td>22.2172</td>\n",
       "      <td>19.3329</td>\n",
       "    </tr>\n",
       "    <tr>\n",
       "      <th>2021-05-27</th>\n",
       "      <td>22.330000</td>\n",
       "      <td>0.007217</td>\n",
       "      <td>22.3188</td>\n",
       "      <td>19.4126</td>\n",
       "    </tr>\n",
       "    <tr>\n",
       "      <th>2021-05-28</th>\n",
       "      <td>22.510000</td>\n",
       "      <td>0.008061</td>\n",
       "      <td>22.4368</td>\n",
       "      <td>19.4886</td>\n",
       "    </tr>\n",
       "    <tr>\n",
       "      <th>2021-06-01</th>\n",
       "      <td>23.010000</td>\n",
       "      <td>0.022212</td>\n",
       "      <td>22.5940</td>\n",
       "      <td>19.5627</td>\n",
       "    </tr>\n",
       "    <tr>\n",
       "      <th>2021-06-02</th>\n",
       "      <td>22.530001</td>\n",
       "      <td>-0.020860</td>\n",
       "      <td>22.6408</td>\n",
       "      <td>19.6307</td>\n",
       "    </tr>\n",
       "  </tbody>\n",
       "</table>\n",
       "</div>"
      ],
      "text/plain": [
       "                 CVLG  Actual Returns  sma_fast  sma_slow\n",
       "Date                                                     \n",
       "2021-05-26  22.170000        0.007727   22.2172   19.3329\n",
       "2021-05-27  22.330000        0.007217   22.3188   19.4126\n",
       "2021-05-28  22.510000        0.008061   22.4368   19.4886\n",
       "2021-06-01  23.010000        0.022212   22.5940   19.5627\n",
       "2021-06-02  22.530001       -0.020860   22.6408   19.6307"
      ]
     },
     "execution_count": 127,
     "metadata": {},
     "output_type": "execute_result"
    }
   ],
   "source": [
    "# Create features set\n",
    "short_window = 25\n",
    "long_window = 100\n",
    "df_close_cvlg[\"sma_fast\"] = df_close_cvlg[\"CVLG\"].rolling(window=short_window).mean()\n",
    "df_close_cvlg[\"sma_slow\"] = df_close_cvlg[\"CVLG\"].rolling(window=long_window).mean()\n",
    "df_close_cvlg.dropna().head()"
   ]
  },
  {
   "cell_type": "code",
   "execution_count": 128,
   "id": "ccb2c95b-3a65-4e64-8620-faef477a1782",
   "metadata": {},
   "outputs": [
    {
     "data": {
      "text/html": [
       "<div>\n",
       "<style scoped>\n",
       "    .dataframe tbody tr th:only-of-type {\n",
       "        vertical-align: middle;\n",
       "    }\n",
       "\n",
       "    .dataframe tbody tr th {\n",
       "        vertical-align: top;\n",
       "    }\n",
       "\n",
       "    .dataframe thead th {\n",
       "        text-align: right;\n",
       "    }\n",
       "</style>\n",
       "<table border=\"1\" class=\"dataframe\">\n",
       "  <thead>\n",
       "    <tr style=\"text-align: right;\">\n",
       "      <th></th>\n",
       "      <th>sma_fast</th>\n",
       "      <th>sma_slow</th>\n",
       "    </tr>\n",
       "    <tr>\n",
       "      <th>Date</th>\n",
       "      <th></th>\n",
       "      <th></th>\n",
       "    </tr>\n",
       "  </thead>\n",
       "  <tbody>\n",
       "    <tr>\n",
       "      <th>2021-05-27</th>\n",
       "      <td>22.2172</td>\n",
       "      <td>19.3329</td>\n",
       "    </tr>\n",
       "    <tr>\n",
       "      <th>2021-05-28</th>\n",
       "      <td>22.3188</td>\n",
       "      <td>19.4126</td>\n",
       "    </tr>\n",
       "    <tr>\n",
       "      <th>2021-06-01</th>\n",
       "      <td>22.4368</td>\n",
       "      <td>19.4886</td>\n",
       "    </tr>\n",
       "    <tr>\n",
       "      <th>2021-06-02</th>\n",
       "      <td>22.5940</td>\n",
       "      <td>19.5627</td>\n",
       "    </tr>\n",
       "    <tr>\n",
       "      <th>2021-06-03</th>\n",
       "      <td>22.6408</td>\n",
       "      <td>19.6307</td>\n",
       "    </tr>\n",
       "  </tbody>\n",
       "</table>\n",
       "</div>"
      ],
      "text/plain": [
       "            sma_fast  sma_slow\n",
       "Date                          \n",
       "2021-05-27   22.2172   19.3329\n",
       "2021-05-28   22.3188   19.4126\n",
       "2021-06-01   22.4368   19.4886\n",
       "2021-06-02   22.5940   19.5627\n",
       "2021-06-03   22.6408   19.6307"
      ]
     },
     "execution_count": 128,
     "metadata": {},
     "output_type": "execute_result"
    }
   ],
   "source": [
    "X = df_close_cvlg[['sma_fast', 'sma_slow']].shift().dropna().copy()\n",
    "X.head()"
   ]
  },
  {
   "cell_type": "code",
   "execution_count": 129,
   "id": "8bd3251d-a2f8-4c0b-bbf0-d72525e493dd",
   "metadata": {},
   "outputs": [],
   "source": [
    "# Create target set\n",
    "df_close_cvlg[\"Signal\"] = 0.0"
   ]
  },
  {
   "cell_type": "code",
   "execution_count": 130,
   "id": "a6a3b75b-d9eb-4f5a-b237-8a4b139a8e6e",
   "metadata": {},
   "outputs": [],
   "source": [
    "# Create the signal to buy\n",
    "df_close_cvlg.loc[(df_close_cvlg[\"Actual Returns\"] >= 0), \"Signal\"] = 1\n",
    "\n",
    "# Create the signal to sell\n",
    "df_close_cvlg.loc[(df_close_cvlg[\"Actual Returns\"] < 0), \"Signal\"] = -1"
   ]
  },
  {
   "cell_type": "code",
   "execution_count": 131,
   "id": "8258a3ec-5548-4611-9555-bf66aaee5fe0",
   "metadata": {},
   "outputs": [],
   "source": [
    "y = df_close_cvlg[\"Signal\"].copy()"
   ]
  },
  {
   "cell_type": "code",
   "execution_count": 133,
   "id": "9c82bb3f-af2a-428c-a777-70742fc388ca",
   "metadata": {},
   "outputs": [
    {
     "data": {
      "text/plain": [
       "Timestamp('2021-05-27 00:00:00')"
      ]
     },
     "metadata": {},
     "output_type": "display_data"
    },
    {
     "data": {
      "text/plain": [
       "Timestamp('2021-08-27 00:00:00')"
      ]
     },
     "metadata": {},
     "output_type": "display_data"
    }
   ],
   "source": [
    "# Create training datasets\n",
    "\n",
    "training_begin = X.index.min()\n",
    "training_end = X.index.min() + DateOffset(months=3)\n",
    "display(training_begin)\n",
    "display(training_end)"
   ]
  },
  {
   "cell_type": "code",
   "execution_count": 134,
   "id": "7601e0a6-a084-434d-999a-8bfb0c7d3517",
   "metadata": {},
   "outputs": [
    {
     "name": "stdout",
     "output_type": "stream",
     "text": [
      "2021-05-27 00:00:00\n"
     ]
    }
   ],
   "source": [
    "training_end = X.index.min() + DateOffset(months=3)\n",
    "print(training_begin)"
   ]
  },
  {
   "cell_type": "code",
   "execution_count": 135,
   "id": "8f6a5fd4-6753-4ca4-9f7e-146f554afc2f",
   "metadata": {},
   "outputs": [
    {
     "data": {
      "text/html": [
       "<div>\n",
       "<style scoped>\n",
       "    .dataframe tbody tr th:only-of-type {\n",
       "        vertical-align: middle;\n",
       "    }\n",
       "\n",
       "    .dataframe tbody tr th {\n",
       "        vertical-align: top;\n",
       "    }\n",
       "\n",
       "    .dataframe thead th {\n",
       "        text-align: right;\n",
       "    }\n",
       "</style>\n",
       "<table border=\"1\" class=\"dataframe\">\n",
       "  <thead>\n",
       "    <tr style=\"text-align: right;\">\n",
       "      <th></th>\n",
       "      <th>sma_fast</th>\n",
       "      <th>sma_slow</th>\n",
       "    </tr>\n",
       "    <tr>\n",
       "      <th>Date</th>\n",
       "      <th></th>\n",
       "      <th></th>\n",
       "    </tr>\n",
       "  </thead>\n",
       "  <tbody>\n",
       "    <tr>\n",
       "      <th>2021-05-27</th>\n",
       "      <td>22.2172</td>\n",
       "      <td>19.3329</td>\n",
       "    </tr>\n",
       "    <tr>\n",
       "      <th>2021-05-28</th>\n",
       "      <td>22.3188</td>\n",
       "      <td>19.4126</td>\n",
       "    </tr>\n",
       "    <tr>\n",
       "      <th>2021-06-01</th>\n",
       "      <td>22.4368</td>\n",
       "      <td>19.4886</td>\n",
       "    </tr>\n",
       "    <tr>\n",
       "      <th>2021-06-02</th>\n",
       "      <td>22.5940</td>\n",
       "      <td>19.5627</td>\n",
       "    </tr>\n",
       "    <tr>\n",
       "      <th>2021-06-03</th>\n",
       "      <td>22.6408</td>\n",
       "      <td>19.6307</td>\n",
       "    </tr>\n",
       "  </tbody>\n",
       "</table>\n",
       "</div>"
      ],
      "text/plain": [
       "            sma_fast  sma_slow\n",
       "Date                          \n",
       "2021-05-27   22.2172   19.3329\n",
       "2021-05-28   22.3188   19.4126\n",
       "2021-06-01   22.4368   19.4886\n",
       "2021-06-02   22.5940   19.5627\n",
       "2021-06-03   22.6408   19.6307"
      ]
     },
     "execution_count": 135,
     "metadata": {},
     "output_type": "execute_result"
    }
   ],
   "source": [
    "X_train = X.loc[training_begin:training_end]\n",
    "y_train = y.loc[training_begin:training_end]\n",
    "\n",
    "# Display sample data\n",
    "X_train.head()"
   ]
  },
  {
   "cell_type": "code",
   "execution_count": 136,
   "id": "f8663a48-bdb6-43a6-be61-44a0228d373c",
   "metadata": {},
   "outputs": [
    {
     "data": {
      "text/html": [
       "<div>\n",
       "<style scoped>\n",
       "    .dataframe tbody tr th:only-of-type {\n",
       "        vertical-align: middle;\n",
       "    }\n",
       "\n",
       "    .dataframe tbody tr th {\n",
       "        vertical-align: top;\n",
       "    }\n",
       "\n",
       "    .dataframe thead th {\n",
       "        text-align: right;\n",
       "    }\n",
       "</style>\n",
       "<table border=\"1\" class=\"dataframe\">\n",
       "  <thead>\n",
       "    <tr style=\"text-align: right;\">\n",
       "      <th></th>\n",
       "      <th>sma_fast</th>\n",
       "      <th>sma_slow</th>\n",
       "    </tr>\n",
       "    <tr>\n",
       "      <th>Date</th>\n",
       "      <th></th>\n",
       "      <th></th>\n",
       "    </tr>\n",
       "  </thead>\n",
       "  <tbody>\n",
       "    <tr>\n",
       "      <th>2021-08-27</th>\n",
       "      <td>21.5492</td>\n",
       "      <td>21.3287</td>\n",
       "    </tr>\n",
       "    <tr>\n",
       "      <th>2021-08-30</th>\n",
       "      <td>21.6600</td>\n",
       "      <td>21.3543</td>\n",
       "    </tr>\n",
       "    <tr>\n",
       "      <th>2021-08-31</th>\n",
       "      <td>21.8516</td>\n",
       "      <td>21.3958</td>\n",
       "    </tr>\n",
       "    <tr>\n",
       "      <th>2021-09-01</th>\n",
       "      <td>22.0100</td>\n",
       "      <td>21.4352</td>\n",
       "    </tr>\n",
       "    <tr>\n",
       "      <th>2021-09-02</th>\n",
       "      <td>22.1664</td>\n",
       "      <td>21.4740</td>\n",
       "    </tr>\n",
       "  </tbody>\n",
       "</table>\n",
       "</div>"
      ],
      "text/plain": [
       "            sma_fast  sma_slow\n",
       "Date                          \n",
       "2021-08-27   21.5492   21.3287\n",
       "2021-08-30   21.6600   21.3543\n",
       "2021-08-31   21.8516   21.3958\n",
       "2021-09-01   22.0100   21.4352\n",
       "2021-09-02   22.1664   21.4740"
      ]
     },
     "execution_count": 136,
     "metadata": {},
     "output_type": "execute_result"
    }
   ],
   "source": [
    "# Create testing datasets\n",
    "\n",
    "X_test = X.loc[training_end:]\n",
    "y_test = y.loc[training_end:]\n",
    "\n",
    "X_test.head()"
   ]
  },
  {
   "cell_type": "code",
   "execution_count": 138,
   "id": "c286ceb4-d44d-487c-ac41-b7d36d6f44cd",
   "metadata": {},
   "outputs": [],
   "source": [
    "# Standerdize the data\n",
    "\n",
    "scaler = StandardScaler()"
   ]
  },
  {
   "cell_type": "code",
   "execution_count": 139,
   "id": "f910b35e-8512-405c-81a6-f0b404183775",
   "metadata": {},
   "outputs": [],
   "source": [
    "X_scaler = scaler.fit(X_train)"
   ]
  },
  {
   "cell_type": "code",
   "execution_count": 140,
   "id": "65118768-3166-4b92-96b5-7dee054f5327",
   "metadata": {},
   "outputs": [],
   "source": [
    "X_train_scaled = X_scaler.transform(X_train)\n",
    "X_test_scaled = X_scaler.transform(X_test)"
   ]
  },
  {
   "cell_type": "code",
   "execution_count": 142,
   "id": "68b6efde-e0e1-44a4-b5ca-5848762cced8",
   "metadata": {},
   "outputs": [
    {
     "data": {
      "text/plain": [
       "array([1., 1., 1., 1., 1., 1., 1., 1., 1., 1.])"
      ]
     },
     "execution_count": 142,
     "metadata": {},
     "output_type": "execute_result"
    }
   ],
   "source": [
    "# Create classification report\n",
    "\n",
    "svm_model = svm.SVC()\n",
    "\n",
    "svm_model = svm_model.fit(X_train_scaled, y_train)\n",
    "\n",
    "training_signal_predictions = svm_model.predict(X_train_scaled)\n",
    "\n",
    "training_signal_predictions[:10]"
   ]
  },
  {
   "cell_type": "code",
   "execution_count": 144,
   "id": "ec8f15c3-5c00-40ea-af66-4bd3f0018b19",
   "metadata": {},
   "outputs": [
    {
     "name": "stdout",
     "output_type": "stream",
     "text": [
      "              precision    recall  f1-score   support\n",
      "\n",
      "        -1.0       0.61      0.42      0.50        33\n",
      "         1.0       0.55      0.72      0.62        32\n",
      "\n",
      "    accuracy                           0.57        65\n",
      "   macro avg       0.58      0.57      0.56        65\n",
      "weighted avg       0.58      0.57      0.56        65\n",
      "\n"
     ]
    }
   ],
   "source": [
    "\n",
    "training_report = classification_report(y_train, training_signal_predictions)\n",
    "print(training_report)"
   ]
  },
  {
   "cell_type": "code",
   "execution_count": 145,
   "id": "cef740c7-7724-4322-aecd-830859f481f1",
   "metadata": {},
   "outputs": [
    {
     "name": "stdout",
     "output_type": "stream",
     "text": [
      "              precision    recall  f1-score   support\n",
      "\n",
      "        -1.0       0.40      0.02      0.03       110\n",
      "         1.0       0.52      0.98      0.68       122\n",
      "\n",
      "    accuracy                           0.52       232\n",
      "   macro avg       0.46      0.50      0.36       232\n",
      "weighted avg       0.47      0.52      0.38       232\n",
      "\n"
     ]
    }
   ],
   "source": [
    "# Backtest\n",
    "\n",
    "testing_signal_predictions = svm_model.predict(X_test_scaled)\n",
    "testing_report = classification_report(y_test, testing_signal_predictions)\n",
    "print(testing_report)"
   ]
  },
  {
   "cell_type": "code",
   "execution_count": 146,
   "id": "f2bf2f52-da65-4425-aa61-d003a0fb07ee",
   "metadata": {},
   "outputs": [
    {
     "data": {
      "text/html": [
       "<div>\n",
       "<style scoped>\n",
       "    .dataframe tbody tr th:only-of-type {\n",
       "        vertical-align: middle;\n",
       "    }\n",
       "\n",
       "    .dataframe tbody tr th {\n",
       "        vertical-align: top;\n",
       "    }\n",
       "\n",
       "    .dataframe thead th {\n",
       "        text-align: right;\n",
       "    }\n",
       "</style>\n",
       "<table border=\"1\" class=\"dataframe\">\n",
       "  <thead>\n",
       "    <tr style=\"text-align: right;\">\n",
       "      <th></th>\n",
       "      <th>Predicted Signal</th>\n",
       "      <th>Actual Returns</th>\n",
       "      <th>Trading Algorithm Returns</th>\n",
       "    </tr>\n",
       "    <tr>\n",
       "      <th>Date</th>\n",
       "      <th></th>\n",
       "      <th></th>\n",
       "      <th></th>\n",
       "    </tr>\n",
       "  </thead>\n",
       "  <tbody>\n",
       "    <tr>\n",
       "      <th>2021-08-27</th>\n",
       "      <td>-1.0</td>\n",
       "      <td>0.028546</td>\n",
       "      <td>-0.028546</td>\n",
       "    </tr>\n",
       "    <tr>\n",
       "      <th>2021-08-30</th>\n",
       "      <td>-1.0</td>\n",
       "      <td>0.075022</td>\n",
       "      <td>-0.075022</td>\n",
       "    </tr>\n",
       "    <tr>\n",
       "      <th>2021-08-31</th>\n",
       "      <td>-1.0</td>\n",
       "      <td>-0.017346</td>\n",
       "      <td>0.017346</td>\n",
       "    </tr>\n",
       "    <tr>\n",
       "      <th>2021-09-01</th>\n",
       "      <td>-1.0</td>\n",
       "      <td>-0.007389</td>\n",
       "      <td>0.007389</td>\n",
       "    </tr>\n",
       "    <tr>\n",
       "      <th>2021-09-02</th>\n",
       "      <td>-1.0</td>\n",
       "      <td>0.008685</td>\n",
       "      <td>-0.008685</td>\n",
       "    </tr>\n",
       "  </tbody>\n",
       "</table>\n",
       "</div>"
      ],
      "text/plain": [
       "            Predicted Signal  Actual Returns  Trading Algorithm Returns\n",
       "Date                                                                   \n",
       "2021-08-27              -1.0        0.028546                  -0.028546\n",
       "2021-08-30              -1.0        0.075022                  -0.075022\n",
       "2021-08-31              -1.0       -0.017346                   0.017346\n",
       "2021-09-01              -1.0       -0.007389                   0.007389\n",
       "2021-09-02              -1.0        0.008685                  -0.008685"
      ]
     },
     "execution_count": 146,
     "metadata": {},
     "output_type": "execute_result"
    }
   ],
   "source": [
    "# Compare actual and predicted returns\n",
    "\n",
    "predictions_df = pd.DataFrame(index=X_test.index)\n",
    "\n",
    "predictions_df[\"Predicted Signal\"] = testing_signal_predictions\n",
    "\n",
    "predictions_df[\"Actual Returns\"] = df_close_cvlg[\"Actual Returns\"]\n",
    "\n",
    "predictions_df[\"Trading Algorithm Returns\"] = (\n",
    "    df_close_cvlg[\"Actual Returns\"] * predictions_df[\"Predicted Signal\"]\n",
    ")\n",
    "\n",
    "# Review the DataFrame\n",
    "predictions_df.head()"
   ]
  },
  {
   "cell_type": "code",
   "execution_count": 147,
   "id": "823c990a-6209-4a2f-81b1-cd40d0f74708",
   "metadata": {},
   "outputs": [
    {
     "data": {
      "text/plain": [
       "<AxesSubplot:xlabel='Date'>"
      ]
     },
     "execution_count": 147,
     "metadata": {},
     "output_type": "execute_result"
    },
    {
     "data": {
      "image/png": "[encoded data removed]",
      "text/plain": [
       "<Figure size 432x288 with 1 Axes>"
      ]
     },
     "metadata": {
      "needs_background": "light"
     },
     "output_type": "display_data"
    }
   ],
   "source": [
    "# Calculate and plot the cumulative returns for the `actual_returns` and the `trading_algorithm_returns`\n",
    "\n",
    "(1 + predictions_df[[\"Actual Returns\", \"Trading Algorithm Returns\"]]).cumprod().plot()"
   ]
  },
  {
   "cell_type": "code",
   "execution_count": 29,
   "id": "214378d9-aad2-4f9f-b756-a50e8b9bc554",
   "metadata": {},
   "outputs": [],
   "source": []
  },
  {
   "cell_type": "code",
   "execution_count": 29,
   "id": "bb7004bb-1ec1-46c2-b7cd-65719d41383d",
   "metadata": {},
   "outputs": [],
   "source": []
  },
  {
   "cell_type": "code",
   "execution_count": 29,
   "id": "508622df-dc1e-4797-a79b-e544c696d9b6",
   "metadata": {},
   "outputs": [],
   "source": []
  },
  {
   "cell_type": "code",
   "execution_count": 29,
   "id": "1fcf2ff3-4fcf-47e6-8edb-8865100a27d9",
   "metadata": {},
   "outputs": [],
   "source": []
  },
  {
   "cell_type": "code",
   "execution_count": 29,
   "id": "3f32fd05-5f2f-40d4-aaac-4b769b9e1a9b",
   "metadata": {},
   "outputs": [],
   "source": [
    "def multiply (x, y):\n",
    "    \n",
    "    return (x*y)"
   ]
  },
  {
   "cell_type": "code",
   "execution_count": 31,
   "id": "4cd34626-5d43-48ba-8724-a36873410b5f",
   "metadata": {},
   "outputs": [
    {
     "name": "stdout",
     "output_type": "stream",
     "text": [
      "67.50343227642583\n",
      "46.586832491880116\n",
      "781.1993806169914\n",
      "6757.045201331392\n",
      "157.49868946700227\n",
      "2249.0504701932887\n",
      "10.785162453630853\n",
      "119.2514627170065\n",
      "             0\n",
      "0    67.503432\n",
      "1    46.586832\n",
      "2   781.199381\n",
      "3  6757.045201\n",
      "4   157.498689\n",
      "5  2249.050470\n",
      "6    10.785162\n",
      "7   119.251463\n"
     ]
    }
   ],
   "source": [
    "df_2 = []\n",
    "\n",
    "for stock in tickers:\n",
    "    z = df_close.loc[:, stock]. describe()\n",
    "    x = z[[\"mean\"]][0]\n",
    "    y = z[[\"std\"]][0]\n",
    "    a = multiply(x, y)\n",
    "    print(a)\n",
    "    df_2.append(a)\n",
    "    \n",
    "df_3 = pd.DataFrame(df_2)\n",
    "print(df_3)"
   ]
  },
  {
   "cell_type": "code",
   "execution_count": null,
   "id": "1521f3b9-e17e-4876-b280-592218253868",
   "metadata": {},
   "outputs": [],
   "source": []
  }
 ],
 "metadata": {
  "kernelspec": {
   "display_name": "Python 3 (ipykernel)",
   "language": "python",
   "name": "python3"
  },
  "language_info": {
   "codemirror_mode": {
    "name": "ipython",
    "version": 3
   },
   "file_extension": ".py",
   "mimetype": "text/x-python",
   "name": "python",
   "nbconvert_exporter": "python",
   "pygments_lexer": "ipython3",
   "version": "3.7.11"
  }
 },
 "nbformat": 4,
 "nbformat_minor": 5
}
